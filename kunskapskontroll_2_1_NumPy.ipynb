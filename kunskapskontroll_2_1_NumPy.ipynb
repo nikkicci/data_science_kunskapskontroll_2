{
 "cells": [
  {
   "cell_type": "markdown",
   "id": "dacf74e6",
   "metadata": {},
   "source": [
    "# NumPy"
   ]
  },
  {
   "cell_type": "markdown",
   "id": "01b2bf34",
   "metadata": {},
   "source": [
    "Read the links: https://numpy.org/doc/stable/user/quickstart.html  and https://numpy.org/doc/stable/user/basics.broadcasting.html  before solving the exercises. "
   ]
  },
  {
   "cell_type": "code",
   "execution_count": 3,
   "id": "1f79e4a6",
   "metadata": {},
   "outputs": [],
   "source": [
    "import numpy as np"
   ]
  },
  {
   "cell_type": "markdown",
   "id": "7dae6889",
   "metadata": {},
   "source": [
    "### Print out the dimension (number of axes), shape, size and the datatype of the matrix A."
   ]
  },
  {
   "cell_type": "code",
   "execution_count": 3,
   "id": "7b3678cd",
   "metadata": {},
   "outputs": [],
   "source": [
    "A = np.arange(1, 16).reshape(3,5)"
   ]
  },
  {
   "cell_type": "code",
   "execution_count": 4,
   "id": "31d39235",
   "metadata": {},
   "outputs": [
    {
     "name": "stdout",
     "output_type": "stream",
     "text": [
      "2\n",
      "(3, 5)\n",
      "15\n",
      "int64\n"
     ]
    }
   ],
   "source": [
    "print(A.ndim)\n",
    "\n",
    "print(A.shape)\n",
    "\n",
    "print(A.size)\n",
    "\n",
    "print(A.dtype)"
   ]
  },
  {
   "cell_type": "markdown",
   "id": "e56d2a96",
   "metadata": {},
   "source": [
    "### Do the following computations on the matrices B and C: \n",
    "* Elementwise subtraction. \n",
    "* Elementwise multiplication. \n",
    "* Matrix multiplication (by default you should use the @ operator)."
   ]
  },
  {
   "cell_type": "code",
   "execution_count": 5,
   "id": "a7053fbb",
   "metadata": {},
   "outputs": [
    {
     "name": "stdout",
     "output_type": "stream",
     "text": [
      "[[1 2 3]\n",
      " [4 5 6]\n",
      " [7 8 9]]\n",
      "\n",
      "[[2. 2. 2.]\n",
      " [2. 2. 2.]\n",
      " [2. 2. 2.]]\n"
     ]
    }
   ],
   "source": [
    "B = np.arange(1, 10).reshape(3, 3)\n",
    "C = np.ones((3, 3))*2\n",
    "\n",
    "print(B)\n",
    "print()\n",
    "print(C)"
   ]
  },
  {
   "cell_type": "code",
   "execution_count": 6,
   "id": "3cd794ae",
   "metadata": {},
   "outputs": [
    {
     "name": "stdout",
     "output_type": "stream",
     "text": [
      "[[-1.  0.  1.]\n",
      " [ 2.  3.  4.]\n",
      " [ 5.  6.  7.]]\n",
      "\n",
      "[[ 2.  4.  6.]\n",
      " [ 8. 10. 12.]\n",
      " [14. 16. 18.]]\n"
     ]
    }
   ],
   "source": [
    "print(B - C)\n",
    "print()\n",
    "print(B * C)"
   ]
  },
  {
   "cell_type": "markdown",
   "id": "96030d53",
   "metadata": {},
   "source": [
    "### Do the following calculations on the matrix:\n",
    "* Exponentiate each number elementwise (use the np.exp function).\n",
    "\n",
    "* Calculate the minimum value in the whole matrix. \n",
    "* Calculcate the minimum value in each row. \n",
    "* Calculcate the minimum value in each column. \n",
    "\n",
    "\n",
    "* Find the index value for the minimum value in the whole matrix (hint: use np.argmin).\n",
    "* Find the index value for the minimum value in each row (hint: use np.argmin).\n",
    "\n",
    "\n",
    "* Calculate the sum for all elements.\n",
    "* Calculate the mean for each column. \n",
    "* Calculate the median for each column. "
   ]
  },
  {
   "cell_type": "code",
   "execution_count": 7,
   "id": "f8a9166b",
   "metadata": {},
   "outputs": [
    {
     "name": "stdout",
     "output_type": "stream",
     "text": [
      "[[1 2 3]\n",
      " [4 5 6]\n",
      " [7 8 9]]\n"
     ]
    }
   ],
   "source": [
    "B = np.arange(1, 10).reshape(3, 3)\n",
    "print(B)"
   ]
  },
  {
   "cell_type": "code",
   "execution_count": 9,
   "id": "f03f24f7",
   "metadata": {},
   "outputs": [
    {
     "name": "stdout",
     "output_type": "stream",
     "text": [
      "[[2.71828183e+00 7.38905610e+00 2.00855369e+01]\n",
      " [5.45981500e+01 1.48413159e+02 4.03428793e+02]\n",
      " [1.09663316e+03 2.98095799e+03 8.10308393e+03]]\n",
      "<built-in method min of numpy.ndarray object at 0x000001A5136952F0>\n",
      "[1 4 7]\n",
      "[1 2 3]\n",
      "0\n",
      "[0 0 0]\n",
      "[0 0 0]\n",
      "45\n",
      "[4. 5. 6.]\n",
      "[2. 5. 8.]\n"
     ]
    }
   ],
   "source": [
    "# Exponentiate each number elementwise (use the np.exp function).\n",
    "print(np.exp(B))\n",
    "\n",
    "# Calculate the minimum value in the whole matrix. \n",
    "print(B.min)\n",
    "\n",
    "# Calculcate the minimum value in each row.\n",
    "B.min(axis=1)\n",
    "\n",
    "print(B.min(axis=1))\n",
    "      \n",
    "# Calculcate the minimum value in each column.\n",
    "B.min(axis=0)\n",
    "print(B.min(axis=0))\n",
    "\n",
    "# Find the index value for the minimum value in the whole matrix (hint: use np.argmin).\n",
    "print(np.argmin(B))\n",
    "\n",
    "# Find the index value for the minimum value in each row (hint: use np.argmin).\n",
    "row_min = np.argmin(B, axis=1)\n",
    "print(row_min)\n",
    "\n",
    "print(B.argmin(axis=1)) # Ska inte svaret bli [1, 4, 7] istället för [0 0 0]?\n",
    "\n",
    "B.argmin(axis=1) # array([0, 0, 0])\n",
    "\n",
    "# Calculate the sum for all elements.\n",
    "print(B.sum(axis=None, dtype=None, out=None)) # Answer: 45\n",
    "\n",
    "# Calculate the mean for each column.\n",
    "print(B.mean(axis=0, dtype=None, out=None)) # the average of all columns: [4. 5. 6.]\n",
    "\n",
    "# Calculate the median for each column.\n",
    "print(np.median(B, axis=1)) # [2. 5. 8.]"
   ]
  },
  {
   "cell_type": "markdown",
   "id": "541eb7ba",
   "metadata": {},
   "source": [
    "### What does it mean when you provide fewer indices than axes when slicing? See example below."
   ]
  },
  {
   "cell_type": "code",
   "execution_count": 10,
   "id": "9c8abf56",
   "metadata": {},
   "outputs": [
    {
     "name": "stdout",
     "output_type": "stream",
     "text": [
      "[[ 1  2  3  4  5]\n",
      " [ 6  7  8  9 10]\n",
      " [11 12 13 14 15]]\n"
     ]
    }
   ],
   "source": [
    "print(A)"
   ]
  },
  {
   "cell_type": "code",
   "execution_count": 11,
   "id": "69415f7b",
   "metadata": {},
   "outputs": [
    {
     "data": {
      "text/plain": [
       "array([ 6,  7,  8,  9, 10])"
      ]
     },
     "execution_count": 11,
     "metadata": {},
     "output_type": "execute_result"
    }
   ],
   "source": [
    "A[1]"
   ]
  },
  {
   "cell_type": "markdown",
   "id": "6c53541b",
   "metadata": {},
   "source": [
    "**Answer:**"
   ]
  },
  {
   "cell_type": "markdown",
   "id": "de01e120",
   "metadata": {},
   "source": [
    "When fewer indices are provided than the number of axes, the missing indices are considered complete slices."
   ]
  },
  {
   "cell_type": "markdown",
   "id": "6652d0c9",
   "metadata": {},
   "source": [
    "### Iterating over multidimensional arrays is done with respect to the first axis, so in the example below we iterate trough the rows. If you would like to iterate through the array *elementwise*, how would you do that?"
   ]
  },
  {
   "cell_type": "code",
   "execution_count": 12,
   "id": "9459864f",
   "metadata": {},
   "outputs": [
    {
     "data": {
      "text/plain": [
       "array([[ 1,  2,  3,  4,  5],\n",
       "       [ 6,  7,  8,  9, 10],\n",
       "       [11, 12, 13, 14, 15]])"
      ]
     },
     "execution_count": 12,
     "metadata": {},
     "output_type": "execute_result"
    }
   ],
   "source": [
    "A"
   ]
  },
  {
   "cell_type": "code",
   "execution_count": 13,
   "id": "a671bb5a",
   "metadata": {},
   "outputs": [
    {
     "name": "stdout",
     "output_type": "stream",
     "text": [
      "[1 2 3 4 5]\n",
      "[ 6  7  8  9 10]\n",
      "[11 12 13 14 15]\n"
     ]
    }
   ],
   "source": [
    "for i in A:\n",
    "    print(i)"
   ]
  },
  {
   "cell_type": "code",
   "execution_count": 14,
   "id": "f4e443a0",
   "metadata": {},
   "outputs": [
    {
     "name": "stdout",
     "output_type": "stream",
     "text": [
      "1\n",
      "2\n",
      "3\n",
      "4\n",
      "5\n",
      "6\n",
      "7\n",
      "8\n",
      "9\n",
      "10\n",
      "11\n",
      "12\n",
      "13\n",
      "14\n",
      "15\n"
     ]
    }
   ],
   "source": [
    "for element in A.flat:\n",
    "    print(element)"
   ]
  },
  {
   "cell_type": "markdown",
   "id": "608a2583",
   "metadata": {},
   "source": [
    "### Explain what the code below does. More specifically, b has three axes - what does this mean? "
   ]
  },
  {
   "cell_type": "code",
   "execution_count": 15,
   "id": "f8f9b26f",
   "metadata": {},
   "outputs": [
    {
     "name": "stdout",
     "output_type": "stream",
     "text": [
      "[ 0  1  2  3  4  5  6  7  8  9 10 11 12 13 14 15 16 17 18 19 20 21 22 23\n",
      " 24 25 26 27 28 29]\n",
      "\n",
      "[[[ 0  1  2  3  4]\n",
      "  [ 5  6  7  8  9]\n",
      "  [10 11 12 13 14]]\n",
      "\n",
      " [[15 16 17 18 19]\n",
      "  [20 21 22 23 24]\n",
      "  [25 26 27 28 29]]]\n"
     ]
    }
   ],
   "source": [
    "a = np.arange(30)\n",
    "b = a.reshape((2, 3, -1))\n",
    "print(a)\n",
    "print()\n",
    "\n",
    "print(b)"
   ]
  },
  {
   "cell_type": "code",
   "execution_count": 16,
   "id": "863a45df",
   "metadata": {},
   "outputs": [
    {
     "name": "stdout",
     "output_type": "stream",
     "text": [
      "[ 0  1  2  3  4  5  6  7  8  9 10 11 12 13 14 15 16 17 18 19 20 21 22 23\n",
      " 24 25 26 27 28 29]\n",
      "[[[ 0  1  2  3  4]\n",
      "  [ 5  6  7  8  9]\n",
      "  [10 11 12 13 14]]\n",
      "\n",
      " [[15 16 17 18 19]\n",
      "  [20 21 22 23 24]\n",
      "  [25 26 27 28 29]]]\n"
     ]
    }
   ],
   "source": [
    "a = np.arange(30) # Creates a one-dimensional array a containing integers from 0 to 29 (a total of 30 elements).\n",
    "b = a.reshape((2, 3, -1)) # Reshapes the array a into a new array b with three dimensions (or axes).\n",
    "\n",
    "# Arguments in reshape:\n",
    "    # First dimension: 2\n",
    "    # Second dimension: 3\n",
    "    # Third dimension: -1 (automatically calculated based on the total number of elements).\n",
    "# Since the array has 30 elements in total, and the first two dimensions are specified as 2 and 3, the third dimension must be 5 (because 30÷(2×3)=5 \n",
    "# Result: The array is reshaped into size (2,3,5) which means: \n",
    "# 2 \"blocks\": Each block contains 3 rows: \n",
    "# Each row contains 5 elements\n",
    "\n",
    "print(a) # a is printed as a standard one-dimensional array.\n",
    "print(b) # b is printed as a three-dimensional array with shape (2,3,5)."
   ]
  },
  {
   "cell_type": "markdown",
   "id": "eed38bbb-dd20-4d23-837f-679aa3d3a067",
   "metadata": {},
   "source": [
    "B has three axes because of when you call reshape with more dimensions than the original array, it creates a new array with the specified dimensions. In the case above, three dimensions were requested: 2 \"blocks\"where each block contains 3 rows and each row contains 5 elements."
   ]
  },
  {
   "cell_type": "markdown",
   "id": "421c9607-819a-401d-949a-97424436fe29",
   "metadata": {},
   "source": [
    "# For the exercises below, read the document *\"matematik_yh_antonio_vektorer_matriser_utdrag\"*\n",
    "# Solutions to the exercises and recorded videos can be found here: https://github.com/AntonioPrgomet/matematik_foer_yh\n",
    "\n",
    "# If you find the exercises below very hard, do not worry. Try your best, that will be enough. "
   ]
  },
  {
   "cell_type": "markdown",
   "id": "ab5933d5",
   "metadata": {},
   "source": [
    "### Broadcasting\n",
    "**Read the following link about broadcasting: https://numpy.org/doc/stable/user/basics.broadcasting.html#basics-broadcasting**"
   ]
  },
  {
   "cell_type": "markdown",
   "id": "039805ba",
   "metadata": {},
   "source": [
    "# Remark on Broadcasting when doing Linear Algebra calculations in Python. "
   ]
  },
  {
   "cell_type": "markdown",
   "id": "c4bcc147",
   "metadata": {},
   "source": [
    "### From the mathematical rules of matrix addition, the operation below (m1 + m2) does not make sense. The reason is that matrix addition requires two matrices of the same size. In Python however, it works due to broadcasting rules in NumPy. So you must be careful when doing Linear Algebra calculations in Python since they do not follow the \"mathematical rules\". This can however easily be handled by doing some simple programming, for example validating that two matrices have the same shape is easy if you for instance want to add two matrices. "
   ]
  },
  {
   "cell_type": "code",
   "execution_count": 18,
   "id": "1fd46778",
   "metadata": {},
   "outputs": [
    {
     "name": "stdout",
     "output_type": "stream",
     "text": [
      "[[2 3]\n",
      " [4 5]]\n"
     ]
    }
   ],
   "source": [
    "m1 = np.array([[1, 2], [3, 4]])\n",
    "m2 = np.array([1, 1])\n",
    "print(m1 + m2)"
   ]
  },
  {
   "cell_type": "markdown",
   "id": "047d6576",
   "metadata": {},
   "source": [
    "### The example below would also not be allowed if following the \"mathematical rules\" in Linear Algebra. But it works due to broadcasting in NumPy. "
   ]
  },
  {
   "cell_type": "code",
   "execution_count": 19,
   "id": "5e6ef2e4",
   "metadata": {},
   "outputs": [
    {
     "name": "stdout",
     "output_type": "stream",
     "text": [
      "[2 3 4]\n"
     ]
    }
   ],
   "source": [
    "v1 = np.array([1, 2, 3])\n",
    "print(v1 + 1)"
   ]
  },
  {
   "cell_type": "code",
   "execution_count": 20,
   "id": "e2cbae26",
   "metadata": {},
   "outputs": [
    {
     "name": "stdout",
     "output_type": "stream",
     "text": [
      "[[1 2]\n",
      " [3 4]]\n",
      "[2 2]\n"
     ]
    }
   ],
   "source": [
    "A = np.arange(1, 5).reshape(2,2)\n",
    "print(A)\n",
    "\n",
    "b = np.array([2, 2])\n",
    "print(b)"
   ]
  },
  {
   "cell_type": "markdown",
   "id": "722fd5cd",
   "metadata": {},
   "source": [
    "# Vector- and matrix algebra Exercises"
   ]
  },
  {
   "cell_type": "markdown",
   "id": "b63a3081-d976-4d9f-bfd0-a63917e79f7d",
   "metadata": {},
   "source": [
    "**Now you are going to create a function that can be reused every time you add or multiply matrices. The function is created so that we do the addition and multiplication according to the rules of vector- and matrix algebra.**\n",
    "\n",
    "**Create a function \"add_mult_matrices\" that takes two matrices as input arguments (validate that the input are of the type numpy.ndarray by using the isinstance function), a third argument that is either 'add' or 'multiply' that specifies if you want to add or multiply the matrices (validate that the third argument is either 'add' or 'multiply'). When doing matrix addition, validate that the matrices have the same size. When doing matrix multiplication, validate that the sizes conform (i.e. number of columns in the first matrix is equal to the number of rows in the second matrix).**"
   ]
  },
  {
   "cell_type": "code",
   "execution_count": 9,
   "id": "3506f977-ac0a-473f-85bc-eec9f35dc498",
   "metadata": {},
   "outputs": [
    {
     "name": "stdout",
     "output_type": "stream",
     "text": [
      "Addition Result:\n",
      " [[ 6  8]\n",
      " [10 12]]\n",
      "\n",
      "Multiplication Result:\n",
      " [[19 22]\n",
      " [43 50]]\n"
     ]
    },
    {
     "ename": "TypeError",
     "evalue": "matrix1 must be a numpy.ndarray",
     "output_type": "error",
     "traceback": [
      "\u001b[1;31m---------------------------------------------------------------------------\u001b[0m",
      "\u001b[1;31mTypeError\u001b[0m                                 Traceback (most recent call last)",
      "Cell \u001b[1;32mIn[9], line 39\u001b[0m\n\u001b[0;32m     36\u001b[0m \u001b[38;5;28mprint\u001b[39m(\u001b[38;5;124m\"\u001b[39m\u001b[38;5;124mMultiplication Result:\u001b[39m\u001b[38;5;130;01m\\n\u001b[39;00m\u001b[38;5;124m\"\u001b[39m, result_mult)\n\u001b[0;32m     38\u001b[0m \u001b[38;5;66;03m# Test input validation\u001b[39;00m\n\u001b[1;32m---> 39\u001b[0m result_mult \u001b[38;5;241m=\u001b[39m add_mult_matrices(\u001b[38;5;124m\"\u001b[39m\u001b[38;5;124mhej\u001b[39m\u001b[38;5;124m\"\u001b[39m, matrix2, \u001b[38;5;124m'\u001b[39m\u001b[38;5;124mmultiply\u001b[39m\u001b[38;5;124m'\u001b[39m)\n",
      "Cell \u001b[1;32mIn[9], line 4\u001b[0m, in \u001b[0;36madd_mult_matrices\u001b[1;34m(matrix1, matrix2, operation)\u001b[0m\n\u001b[0;32m      1\u001b[0m \u001b[38;5;28;01mdef\u001b[39;00m \u001b[38;5;21madd_mult_matrices\u001b[39m(matrix1, matrix2, operation):\n\u001b[0;32m      2\u001b[0m     \u001b[38;5;66;03m# Validate inputs are of type numpy.ndarray\u001b[39;00m\n\u001b[0;32m      3\u001b[0m     \u001b[38;5;28;01mif\u001b[39;00m \u001b[38;5;129;01mnot\u001b[39;00m \u001b[38;5;28misinstance\u001b[39m(matrix1, np\u001b[38;5;241m.\u001b[39mndarray):\n\u001b[1;32m----> 4\u001b[0m         \u001b[38;5;28;01mraise\u001b[39;00m \u001b[38;5;167;01mTypeError\u001b[39;00m(\u001b[38;5;124m\"\u001b[39m\u001b[38;5;124mmatrix1 must be a numpy.ndarray\u001b[39m\u001b[38;5;124m\"\u001b[39m)\n\u001b[0;32m      5\u001b[0m     \u001b[38;5;28;01mif\u001b[39;00m \u001b[38;5;129;01mnot\u001b[39;00m \u001b[38;5;28misinstance\u001b[39m(matrix2, np\u001b[38;5;241m.\u001b[39mndarray):\n\u001b[0;32m      6\u001b[0m         \u001b[38;5;28;01mraise\u001b[39;00m \u001b[38;5;167;01mTypeError\u001b[39;00m(\u001b[38;5;124m\"\u001b[39m\u001b[38;5;124mmatrix2 must be a numpy.ndarray\u001b[39m\u001b[38;5;124m\"\u001b[39m)\n",
      "\u001b[1;31mTypeError\u001b[0m: matrix1 must be a numpy.ndarray"
     ]
    }
   ],
   "source": [
    "def add_mult_matrices(matrix1, matrix2, operation):\n",
    "    # Validate inputs are of type numpy.ndarray\n",
    "    if not isinstance(matrix1, np.ndarray):\n",
    "        raise TypeError(\"matrix1 must be a numpy.ndarray\")\n",
    "    if not isinstance(matrix2, np.ndarray):\n",
    "        raise TypeError(\"matrix2 must be a numpy.ndarray\")\n",
    "    \n",
    "    # Validate the operation is either 'add' or 'multiply'\n",
    "    if operation not in ['add', 'multiply']:\n",
    "        raise ValueError(\"operation must be 'add' or 'multiply'\")\n",
    "    \n",
    "    if operation == 'add':\n",
    "        # Validate that the matrices have the same size\n",
    "        if matrix1.shape != matrix2.shape:\n",
    "            raise ValueError(\"For addition, both matrices must have the same shape\")\n",
    "        return matrix1 + matrix2\n",
    "    \n",
    "    elif operation == 'multiply':\n",
    "        # Validate that the sizes conform for multiplication\n",
    "        if matrix1.shape[1] != matrix2.shape[0]:\n",
    "            raise ValueError(\"For multiplication, the number of columns in matrix1 must equal the number of rows in matrix2\")\n",
    "        return matrix1 @ matrix2\n",
    "    \n",
    "# Test matrices\n",
    "matrix1 = np.array([[1, 2], [3, 4]])\n",
    "matrix2 = np.array([[5, 6], [7, 8]])\n",
    "\n",
    "# Addition\n",
    "result_add = add_mult_matrices(matrix1, matrix2, 'add')\n",
    "print(\"Addition Result:\\n\", result_add)\n",
    "\n",
    "print()\n",
    "\n",
    "# Multiplication\n",
    "result_mult = add_mult_matrices(matrix1, matrix2, 'multiply')\n",
    "print(\"Multiplication Result:\\n\", result_mult)\n",
    "\n",
    "# Test input validation\n",
    "result_mult = add_mult_matrices(\"hej\", matrix2, 'multiply')\n",
    "\n"
   ]
  },
  {
   "cell_type": "markdown",
   "id": "8dad82d0-2359-4dff-8f5b-a57d3e34103c",
   "metadata": {},
   "source": [
    "### Solve all the exercises in chapter 10.1 in the book \"Matematik för yrkeshögskolan\" by using Python. "
   ]
  },
  {
   "cell_type": "markdown",
   "id": "89df88af-3668-4d98-a0a4-e6d92eea0f89",
   "metadata": {},
   "source": [
    "### Uppgift10.1.1. ### \n",
    "\n",
    "# Definiera vektorn x enligt nedan #\n",
    "\n",
    " x=(4,3)\n",
    "\n",
    " (a) Vilken dimension har vektorn x?\n",
    " (b) Beräkna 5x\n",
    " (c) Beräkna 3x\n",
    " (d) Beräkna 5x + 3x\n",
    " (e) Beräkna 8x\n",
    " (f) Beräkna 4x − x\n",
    " (g) Beräkna x⊤, vilken blir den nya dimensionen efter att transponeringenutförts?\n",
    " (h) Är x + x⊤ definierat?\n",
    " (i) Beräkna ∥x∥"
   ]
  },
  {
   "cell_type": "code",
   "execution_count": 21,
   "id": "66d38b20",
   "metadata": {},
   "outputs": [
    {
     "name": "stdout",
     "output_type": "stream",
     "text": [
      "Dimension av x: (2,)\n",
      "5x: [20 15]\n",
      "3x: [12  9]\n",
      "5x + 3x: [32 24]\n",
      "8x: [32 24]\n",
      "4x - x: [12  9]\n",
      "x^T:\n",
      " [[4]\n",
      " [3]]\n",
      "Ny dimension efter transponering: (2, 1)\n",
      "∥x∥ 5.0\n"
     ]
    }
   ],
   "source": [
    "x = np.array([4, 3])\n",
    "\n",
    "# (a: Vilken dimension har vektorn x?) Svar: x har dimensionen (2,) vilket innebär en vektor med två element\n",
    "dimension = x.shape\n",
    "print(\"Dimension av x:\", dimension)\n",
    "\n",
    "# (b: Beräkna 5x) Svar: 5x = [20 15]\n",
    "result_b = 5 * x\n",
    "print(\"5x:\", result_b)\n",
    "\n",
    "# (c: Beräkna 3x) Svar: 3x = [12,9]\n",
    "result_c = 3 * x\n",
    "print(\"3x:\", result_c)\n",
    "\n",
    "# (d: Beräkna 5x + 3x) Svar: 5x + 3x = [32,24]\n",
    "result_d = 5 * x + 3 * x\n",
    "print(\"5x + 3x:\", result_d)\n",
    "\n",
    "# (e: Beräkna 8x) Svar: 8x = [32, 24]\n",
    "result_e = 8 * x\n",
    "print(\"8x:\", result_e)\n",
    "\n",
    "# (f: Beräkna 4x − x) Svar: 4x - x = [12,9]\n",
    "result_f = 4 * x - x\n",
    "print(\"4x - x:\", result_f)\n",
    "\n",
    "# (g: Beräkna x⊤, vilken blir den nya dimensionen efter att transponeringen utförts?) Svar: \n",
    "x_transpose = x.reshape(-1, 1)\n",
    "print(\"x^T:\\n\", x_transpose)\n",
    "print(\"Ny dimension efter transponering:\", x_transpose.shape)\n",
    "\n",
    "# (h: Är x + x⊤ definierat?) Svar: Nej, eftersom matriserna har olika dimensioner.\n",
    "\n",
    "# (i: Beräkna ∥x∥) Svar: 5\n",
    "print(\"∥x∥\", np.linalg.norm(x))\n"
   ]
  },
  {
   "cell_type": "markdown",
   "id": "75c98984-1f88-4df1-b850-d2466de444a5",
   "metadata": {},
   "source": [
    "### Solve all the exercises, except 10.2.4, in chapter 10.2 in the book \"Matematik för yrkeshögskolan\" by using Python. "
   ]
  },
  {
   "cell_type": "code",
   "execution_count": 43,
   "id": "65371610-16e1-48b2-b7fb-65e49002608a",
   "metadata": {},
   "outputs": [
    {
     "name": "stdout",
     "output_type": "stream",
     "text": [
      "Matrix A:\n",
      "[[ 2  1 -1]\n",
      " [ 1 -1  1]]\n",
      "\n",
      "Matrix B:\n",
      "[[ 4 -2  1]\n",
      " [ 2 -4 -2]]\n",
      "\n",
      "Matrix C:\n",
      "[[1 2]\n",
      " [2 1]]\n",
      "\n",
      "Matrix D:\n",
      "[[3 4]\n",
      " [4 3]]\n",
      "\n",
      "Matrix E:\n",
      "[[1]\n",
      " [2]]\n",
      "\n",
      "Identity Matrix I:\n",
      "[[1 0]\n",
      " [0 1]]\n",
      "\n",
      "a: [[ 4  2 -2]\n",
      " [ 2 -2  2]]\n",
      "\n",
      "b: [[ 0 -4  3]\n",
      " [ 0 -2 -4]]\n",
      "\n",
      "d: [[3 2]\n",
      " [2 3]]\n",
      "\n",
      "e: [[ 9 12]\n",
      " [12  9]]\n",
      "\n",
      "f: [[-4 -4]\n",
      " [-4 -4]]\n",
      "\n",
      "i: [[11 10]\n",
      " [10 11]]\n",
      "\n",
      "j: [[  8 -10  -3]\n",
      " [ 10  -8   0]]\n",
      "\n",
      "k: [[1 2]\n",
      " [2 1]]\n",
      "\n",
      "l: [[5 2]\n",
      " [7 4]]\n"
     ]
    }
   ],
   "source": [
    "# Uppgift 10.2.1\n",
    "# Definiera matriserna:\n",
    "\n",
    "import numpy as np\n",
    "\n",
    "# Definiera matriserna där np.array() skapar en matris från en lista med listor.\n",
    "# Matrisdimensionerna beror på antalet rader och kolumner i den inre listan\n",
    "\n",
    "A = np.array([[2, 1, -1],\n",
    "              [1, -1, 1]])\n",
    "print(\"Matrix A:\")\n",
    "print(A)\n",
    "\n",
    "B = np.array([[4, -2, 1],\n",
    "              [2, -4, -2]])\n",
    "print(\"\\nMatrix B:\")\n",
    "print(B)\n",
    "\n",
    "C = np.array([[1, 2],\n",
    "              [2, 1]])\n",
    "print(\"\\nMatrix C:\")\n",
    "print(C)\n",
    "\n",
    "D = np.array([[3, 4],\n",
    "              [4, 3]])\n",
    "print(\"\\nMatrix D:\")\n",
    "print(D)\n",
    "\n",
    "E = np.array([[1],\n",
    "              [2]])\n",
    "print(\"\\nMatrix E:\")\n",
    "print(E)\n",
    "\n",
    "I = np.array([[1, 0],\n",
    "              [0, 1]]) # Identitetsmatrisen I definieras som en kvadratisk matris med 1:or längs diagonalen och 0:or på andra platser.\n",
    "print(\"\\nIdentity Matrix I:\")\n",
    "print(I)\n",
    "print()\n",
    "\n",
    "\n",
    "# Utför följande beräkningar:\n",
    "\n",
    "# (a) 2A\n",
    "print(\"a:\", 2 * A)\n",
    "print()\n",
    "\n",
    "# (b) B −2A\n",
    "print(\"b:\", B - 2 * A)\n",
    "print()\n",
    "\n",
    "# (c) 3C − 2E Svar: odefinierat pga olika dimensioner i matriser\n",
    "\n",
    "# (d) 2D −3C\n",
    "print(\"d:\", 2 * D - 3 * C)\n",
    "print()\n",
    "\n",
    "# (e) D⊤ +2D\n",
    "print(\"e:\", np.transpose(D) + 2 * D)\n",
    "print()\n",
    "\n",
    "# (f) 2C⊤ −2D⊤\n",
    "print(\"f:\", 2 * np.transpose(C) - 2 * np.transpose(D))\n",
    "print()\n",
    "\n",
    "# (g) A⊤ −B Svar: Inte definerat eftersom A är transponerad\n",
    "\n",
    "# (h) AC Svar: odefinerat, kolumner i den första matrisen måste vara samma som antal rader i den andra matrisen.\n",
    "\n",
    "# (i) CD\n",
    "print(\"i:\", C @ D)\n",
    "print()\n",
    "\n",
    "# (j) CB \n",
    "print(\"j:\", C @ B)\n",
    "print()\n",
    "\n",
    "# (k) CI Identitetsmatris motsvarar att multiplicera med talet 1\n",
    "print(\"k:\", C @ I)\n",
    "print()\n",
    "\n",
    "# (l) ABT\n",
    "print(\"l:\", A @ np.transpose(B))\n"
   ]
  },
  {
   "cell_type": "code",
   "execution_count": 46,
   "id": "f707420a",
   "metadata": {},
   "outputs": [
    {
     "name": "stdout",
     "output_type": "stream",
     "text": [
      "Matrix A:\n",
      "[[2 3 4]\n",
      " [5 4 1]]\n",
      "\n",
      "[[29 26]\n",
      " [26 42]]\n"
     ]
    }
   ],
   "source": [
    "# Uppgift 10.2.2\n",
    "\n",
    "A = np.array([[2, 3, 4],\n",
    "              [5, 4, 1]])\n",
    "print(\"Matrix A:\")\n",
    "print(A)\n",
    "print()\n",
    "\n",
    "print(A @ np.transpose(A))"
   ]
  },
  {
   "cell_type": "code",
   "execution_count": 6,
   "id": "49ab1b91",
   "metadata": {},
   "outputs": [
    {
     "name": "stdout",
     "output_type": "stream",
     "text": [
      "Matrix A:\n",
      "[[1 2]\n",
      " [2 4]]\n",
      "\n",
      "Matrix B:\n",
      "[[2 1]\n",
      " [1 3]]\n",
      "\n",
      "Matrix C:\n",
      "[[4 3]\n",
      " [0 2]]\n",
      "\n",
      "Resultat av AB: [[ 4  7]\n",
      " [ 8 14]]\n",
      "\n",
      "Resultat av AC: [[ 4  7]\n",
      " [ 8 14]]\n",
      "\n",
      "AB = AC? True\n",
      "\n",
      "Resultat av BC; [[8 8]\n",
      " [4 9]]\n",
      "\n",
      "B = C? False\n"
     ]
    }
   ],
   "source": [
    " # Uppgift 10.2.3\n",
    "\n",
    "A = np.array([[1, 2],\n",
    "              [2, 4]])\n",
    "print(\"Matrix A:\")\n",
    "print(A)\n",
    "print()\n",
    "\n",
    "B = np.array([[2, 1],\n",
    "              [1, 3]])\n",
    "print(\"Matrix B:\")\n",
    "print(B)\n",
    "print()\n",
    "\n",
    "C = np.array([[4, 3],\n",
    "              [0, 2]])\n",
    "print(\"Matrix C:\")\n",
    "print(C)\n",
    "print()\n",
    "\n",
    "print(\"Resultat av AB:\", A @ B)             # Svar: [4, 7][8, 14]\n",
    "print(\"\\nResultat av AC:\", A @ C)           # Svar: [4, 7][8, 14]\n",
    "print(\"\\nAB = AC?\", np.all(A @ B == A @ C)) # Svar: True\n",
    "print(\"\\nResultat av BC;\", B @ C)           # Svar: [8, 8][4, 9]\n",
    "print(\"\\nB = C?\", np.all(B == C))           # Svar: False"
   ]
  },
  {
   "cell_type": "markdown",
   "id": "6a4a524f",
   "metadata": {},
   "source": [
    "### Copies and Views\n",
    "Read the following link: https://numpy.org/doc/stable/user/basics.copies.html"
   ]
  },
  {
   "cell_type": "markdown",
   "id": "6cbbeaf7",
   "metadata": {},
   "source": [
    "**Basic indexing creates a view, How can you check if v1 and v2 is a view or copy? If you change the last element in v2 to 123, will the last element in v1 be changed? Why?**"
   ]
  },
  {
   "cell_type": "code",
   "execution_count": 60,
   "id": "5b9ef4df",
   "metadata": {},
   "outputs": [
    {
     "name": "stdout",
     "output_type": "stream",
     "text": [
      "[0 1 2 3]\n",
      "[2 3]\n"
     ]
    }
   ],
   "source": [
    "v1 = np.arange(4)\n",
    "v2 = v1[-2:] # creates a view\n",
    "print(v1)\n",
    "print(v2)"
   ]
  },
  {
   "cell_type": "code",
   "execution_count": 61,
   "id": "d2440489",
   "metadata": {},
   "outputs": [
    {
     "name": "stdout",
     "output_type": "stream",
     "text": [
      "None\n",
      "[0 1 2 3]\n"
     ]
    }
   ],
   "source": [
    "# The base attribute of a view returns the original array while it returns None for a copy.\n",
    "print(v1.base)\n",
    "print(v2.base)"
   ]
  },
  {
   "cell_type": "code",
   "execution_count": 62,
   "id": "c8752807",
   "metadata": {},
   "outputs": [
    {
     "name": "stdout",
     "output_type": "stream",
     "text": [
      "[  0   1   2 123]\n",
      "[  2 123]\n"
     ]
    }
   ],
   "source": [
    "# The last element in v1 will be changed aswell since v2 is a view, meaning they share the same data buffer.\n",
    "v2[-1] = 123\n",
    "print(v1)\n",
    "print(v2)"
   ]
  },
  {
   "cell_type": "code",
   "execution_count": null,
   "id": "3dd68221",
   "metadata": {},
   "outputs": [],
   "source": []
  }
 ],
 "metadata": {
  "kernelspec": {
   "display_name": ".conda",
   "language": "python",
   "name": "python3"
  },
  "language_info": {
   "codemirror_mode": {
    "name": "ipython",
    "version": 3
   },
   "file_extension": ".py",
   "mimetype": "text/x-python",
   "name": "python",
   "nbconvert_exporter": "python",
   "pygments_lexer": "ipython3",
   "version": "3.11.11"
  }
 },
 "nbformat": 4,
 "nbformat_minor": 5
}
