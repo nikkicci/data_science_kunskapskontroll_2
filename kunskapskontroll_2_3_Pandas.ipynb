{
 "cells": [
  {
   "cell_type": "markdown",
   "id": "b540290b",
   "metadata": {},
   "source": [
    "# Pandas\n",
    "Read \"10 minutes to Pandas\": https://pandas.pydata.org/docs/user_guide/10min.html before solving the exercises.\n",
    "We will use the data set \"cars_data\" in the exercises below. "
   ]
  },
  {
   "cell_type": "code",
   "execution_count": 2,
   "id": "fa266ee4",
   "metadata": {},
   "outputs": [],
   "source": [
    "# Importing Pandas. \n",
    "import pandas as pd"
   ]
  },
  {
   "cell_type": "markdown",
   "id": "addb587b",
   "metadata": {},
   "source": [
    "### Explain what a CSV file is."
   ]
  },
  {
   "cell_type": "markdown",
   "id": "6047c36f",
   "metadata": {},
   "source": [
    "A CSV-file (Comma-separated values) is a text file format that uses commas to separate values, and newlines to separate records. A CSV file stores tabular data (numbers and text) in plain text, where each line of the file typically represents one data record. Each record consists of the same number of fields, and these are separated by commas in the CSV file."
   ]
  },
  {
   "cell_type": "markdown",
   "id": "5c61e5d9",
   "metadata": {},
   "source": [
    "### Load the data set \"cars_data\" through Pandas. "
   ]
  },
  {
   "cell_type": "code",
   "execution_count": 3,
   "id": "91923010",
   "metadata": {},
   "outputs": [],
   "source": [
    "# When reading in the data, either you have the data file in the same folder as your python script\n",
    "# or in a seperate folder.\n",
    "\n",
    "# Code below can be ran if you have the data file in the same folder as the script\n",
    "# cars = pd.read_csv(\"cars_data.csv\")\n",
    "\n",
    "# Code below can be ran if you have the data file in another script. \n",
    "# Notice, you must change the path according to where you have the data in your computer. \n",
    "# pd.read_csv(r'C:\\Users\\Antonio Prgomet\\Documents\\03_nbi_yh\\korta_yh_kurser\\python_för_ai\\kunskapskontroll_1\\cars_data.csv')\n",
    "\n",
    "cars = pd.read_csv(\"cars_data.csv\")"
   ]
  },
  {
   "cell_type": "markdown",
   "id": "b9ac1d06",
   "metadata": {},
   "source": [
    "### Print the first 10 rows of the data. "
   ]
  },
  {
   "cell_type": "code",
   "execution_count": 4,
   "id": "2886ff8e",
   "metadata": {},
   "outputs": [
    {
     "name": "stdout",
     "output_type": "stream",
     "text": [
      "0 alfa-romero convertible 88.6 168.8 dohc four 111 21 13495.0\n",
      "1 alfa-romero convertible 88.6 168.8 dohc four 111 21 16500.0\n",
      "2 alfa-romero hatchback 94.5 171.2 ohcv six 154 19 16500.0\n",
      "3 audi sedan 99.8 176.6 ohc four 102 24 13950.0\n",
      "4 audi sedan 99.4 176.6 ohc five 115 18 17450.0\n",
      "5 audi sedan 99.8 177.3 ohc five 110 19 15250.0\n",
      "6 audi wagon 105.8 192.7 ohc five 110 19 18920.0\n",
      "9 bmw sedan 101.2 176.8 ohc four 101 23 16430.0\n",
      "10 bmw sedan 101.2 176.8 ohc four 101 23 16925.0\n",
      "11 bmw sedan 101.2 176.8 ohc six 121 21 20970.0\n"
     ]
    }
   ],
   "source": [
    "import pandas as pd\n",
    "\n",
    "# Load the CSV file into a Pandas DataFrame\n",
    "df = pd.read_csv(\"cars_data.csv\") \n",
    "\n",
    "# Loop through the rows of the DataFrame and print the first 10 rows\n",
    "for i, row in df.iterrows(): # iterate over the rows of the DataFrame.\n",
    "    print(\n",
    "        row['index'], \n",
    "        row['company'], \n",
    "        row['body-style'], \n",
    "        row['wheel-base'], \n",
    "        row['length'], \n",
    "        row['engine-type'], \n",
    "        row['num-of-cylinders'], \n",
    "        row['horsepower'], \n",
    "        row['average-mileage'], \n",
    "        row['price']\n",
    "    )\n",
    "    if i >= 9:  # Stop after printing 10 rows\n",
    "        break\n"
   ]
  },
  {
   "cell_type": "markdown",
   "id": "ec02774b",
   "metadata": {},
   "source": [
    "### Print the last 5 rows. "
   ]
  },
  {
   "cell_type": "code",
   "execution_count": 8,
   "id": "437d158f",
   "metadata": {},
   "outputs": [
    {
     "name": "stdout",
     "output_type": "stream",
     "text": [
      "81 volkswagen sedan 97.3 171.7 ohc four 85 27 7975.0\n",
      "82 volkswagen sedan 97.3 171.7 ohc four 52 37 7995.0\n",
      "86 volkswagen sedan 97.3 171.7 ohc four 100 26 9995.0\n",
      "87 volvo sedan 104.3 188.8 ohc four 114 23 12940.0\n",
      "88 volvo wagon 104.3 188.8 ohc four 114 23 13415.0\n"
     ]
    }
   ],
   "source": [
    "# Print the last 5 rows\n",
    "for i, row in df.tail(5).iterrows(): # Directly extracts the last 5 rows of the DataFrame by usihng df.tail\n",
    "    print(\n",
    "        row['index'], \n",
    "        row['company'], \n",
    "        row['body-style'], \n",
    "        row['wheel-base'], \n",
    "        row['length'], \n",
    "        row['engine-type'], \n",
    "        row['num-of-cylinders'], \n",
    "        row['horsepower'], \n",
    "        row['average-mileage'], \n",
    "        row['price']\n",
    "    )\n"
   ]
  },
  {
   "cell_type": "markdown",
   "id": "e0cd9329",
   "metadata": {},
   "source": [
    "### By using the info method, check how many non-null rows each column have. "
   ]
  },
  {
   "cell_type": "code",
   "execution_count": null,
   "id": "efe71f5f",
   "metadata": {},
   "outputs": [
    {
     "name": "stdout",
     "output_type": "stream",
     "text": [
      "<class 'pandas.core.frame.DataFrame'>\n",
      "RangeIndex: 61 entries, 0 to 60\n",
      "Data columns (total 10 columns):\n",
      " #   Column            Non-Null Count  Dtype  \n",
      "---  ------            --------------  -----  \n",
      " 0   index             61 non-null     int64  \n",
      " 1   company           61 non-null     object \n",
      " 2   body-style        61 non-null     object \n",
      " 3   wheel-base        61 non-null     float64\n",
      " 4   length            61 non-null     float64\n",
      " 5   engine-type       61 non-null     object \n",
      " 6   num-of-cylinders  61 non-null     object \n",
      " 7   horsepower        61 non-null     int64  \n",
      " 8   average-mileage   61 non-null     int64  \n",
      " 9   price             58 non-null     float64\n",
      "dtypes: float64(3), int64(3), object(4)\n",
      "memory usage: 4.9+ KB\n"
     ]
    }
   ],
   "source": [
    "# The info() method provides a summary of the DataFrame, including the number of non-null entries in each column.\n",
    "\n",
    "# Display information about the DataFrame\n",
    "df.info()"
   ]
  },
  {
   "cell_type": "markdown",
   "id": "887f8c9c",
   "metadata": {},
   "source": [
    "### If any column has a missing value, drop the entire row. Notice, the operation should be inplace meaning you change the dataframe itself."
   ]
  },
  {
   "cell_type": "code",
   "execution_count": 9,
   "id": "60b660dc",
   "metadata": {},
   "outputs": [
    {
     "name": "stdout",
     "output_type": "stream",
     "text": [
      "    index        company   body-style  wheel-base  length engine-type  \\\n",
      "0       0    alfa-romero  convertible        88.6   168.8        dohc   \n",
      "1       1    alfa-romero  convertible        88.6   168.8        dohc   \n",
      "2       2    alfa-romero    hatchback        94.5   171.2        ohcv   \n",
      "3       3           audi        sedan        99.8   176.6         ohc   \n",
      "4       4           audi        sedan        99.4   176.6         ohc   \n",
      "5       5           audi        sedan        99.8   177.3         ohc   \n",
      "6       6           audi        wagon       105.8   192.7         ohc   \n",
      "7       9            bmw        sedan       101.2   176.8         ohc   \n",
      "8      10            bmw        sedan       101.2   176.8         ohc   \n",
      "9      11            bmw        sedan       101.2   176.8         ohc   \n",
      "10     13            bmw        sedan       103.5   189.0         ohc   \n",
      "11     14            bmw        sedan       103.5   193.8         ohc   \n",
      "12     15            bmw        sedan       110.0   197.0         ohc   \n",
      "13     16      chevrolet    hatchback        88.4   141.1           l   \n",
      "14     17      chevrolet    hatchback        94.5   155.9         ohc   \n",
      "15     18      chevrolet        sedan        94.5   158.8         ohc   \n",
      "16     19          dodge    hatchback        93.7   157.3         ohc   \n",
      "17     20          dodge    hatchback        93.7   157.3         ohc   \n",
      "18     27          honda        wagon        96.5   157.1         ohc   \n",
      "19     28          honda        sedan        96.5   175.4         ohc   \n",
      "20     29          honda        sedan        96.5   169.1         ohc   \n",
      "21     30          isuzu        sedan        94.3   170.7         ohc   \n",
      "24     33         jaguar        sedan       113.0   199.6        dohc   \n",
      "25     34         jaguar        sedan       113.0   199.6        dohc   \n",
      "26     35         jaguar        sedan       102.0   191.7        ohcv   \n",
      "27     36          mazda    hatchback        93.1   159.1         ohc   \n",
      "28     37          mazda    hatchback        93.1   159.1         ohc   \n",
      "29     38          mazda    hatchback        93.1   159.1         ohc   \n",
      "30     39          mazda    hatchback        95.3   169.0       rotor   \n",
      "31     43          mazda        sedan       104.9   175.0         ohc   \n",
      "32     44  mercedes-benz        sedan       110.0   190.9         ohc   \n",
      "33     45  mercedes-benz        wagon       110.0   190.9         ohc   \n",
      "34     46  mercedes-benz        sedan       120.9   208.1        ohcv   \n",
      "35     47  mercedes-benz      hardtop       112.0   199.2        ohcv   \n",
      "36     49     mitsubishi    hatchback        93.7   157.3         ohc   \n",
      "37     50     mitsubishi    hatchback        93.7   157.3         ohc   \n",
      "38     51     mitsubishi        sedan        96.3   172.4         ohc   \n",
      "39     52     mitsubishi        sedan        96.3   172.4         ohc   \n",
      "40     53         nissan        sedan        94.5   165.3         ohc   \n",
      "41     54         nissan        sedan        94.5   165.3         ohc   \n",
      "42     55         nissan        sedan        94.5   165.3         ohc   \n",
      "43     56         nissan        wagon        94.5   170.2         ohc   \n",
      "44     57         nissan        sedan       100.4   184.6        ohcv   \n",
      "45     61        porsche      hardtop        89.5   168.9        ohcf   \n",
      "46     62        porsche  convertible        89.5   168.9        ohcf   \n",
      "48     66         toyota    hatchback        95.7   158.7         ohc   \n",
      "49     67         toyota    hatchback        95.7   158.7         ohc   \n",
      "50     68         toyota    hatchback        95.7   158.7         ohc   \n",
      "51     69         toyota        wagon        95.7   169.7         ohc   \n",
      "52     70         toyota        wagon        95.7   169.7         ohc   \n",
      "53     71         toyota        wagon        95.7   169.7         ohc   \n",
      "54     79         toyota        wagon       104.5   187.8        dohc   \n",
      "55     80     volkswagen        sedan        97.3   171.7         ohc   \n",
      "56     81     volkswagen        sedan        97.3   171.7         ohc   \n",
      "57     82     volkswagen        sedan        97.3   171.7         ohc   \n",
      "58     86     volkswagen        sedan        97.3   171.7         ohc   \n",
      "59     87          volvo        sedan       104.3   188.8         ohc   \n",
      "60     88          volvo        wagon       104.3   188.8         ohc   \n",
      "\n",
      "   num-of-cylinders  horsepower  average-mileage    price  \n",
      "0              four         111               21  13495.0  \n",
      "1              four         111               21  16500.0  \n",
      "2               six         154               19  16500.0  \n",
      "3              four         102               24  13950.0  \n",
      "4              five         115               18  17450.0  \n",
      "5              five         110               19  15250.0  \n",
      "6              five         110               19  18920.0  \n",
      "7              four         101               23  16430.0  \n",
      "8              four         101               23  16925.0  \n",
      "9               six         121               21  20970.0  \n",
      "10              six         182               16  30760.0  \n",
      "11              six         182               16  41315.0  \n",
      "12              six         182               15  36880.0  \n",
      "13            three          48               47   5151.0  \n",
      "14             four          70               38   6295.0  \n",
      "15             four          70               38   6575.0  \n",
      "16             four          68               31   6377.0  \n",
      "17             four          68               31   6229.0  \n",
      "18             four          76               30   7295.0  \n",
      "19             four         101               24  12945.0  \n",
      "20             four         100               25  10345.0  \n",
      "21             four          78               24   6785.0  \n",
      "24              six         176               15  32250.0  \n",
      "25              six         176               15  35550.0  \n",
      "26           twelve         262               13  36000.0  \n",
      "27             four          68               30   5195.0  \n",
      "28             four          68               31   6095.0  \n",
      "29             four          68               31   6795.0  \n",
      "30              two         101               17  11845.0  \n",
      "31             four          72               31  18344.0  \n",
      "32             five         123               22  25552.0  \n",
      "33             five         123               22  28248.0  \n",
      "34            eight         184               14  40960.0  \n",
      "35            eight         184               14  45400.0  \n",
      "36             four          68               37   5389.0  \n",
      "37             four          68               31   6189.0  \n",
      "38             four          88               25   6989.0  \n",
      "39             four          88               25   8189.0  \n",
      "40             four          55               45   7099.0  \n",
      "41             four          69               31   6649.0  \n",
      "42             four          69               31   6849.0  \n",
      "43             four          69               31   7349.0  \n",
      "44              six         152               19  13499.0  \n",
      "45              six         207               17  34028.0  \n",
      "46              six         207               17  37028.0  \n",
      "48             four          62               35   5348.0  \n",
      "49             four          62               31   6338.0  \n",
      "50             four          62               31   6488.0  \n",
      "51             four          62               31   6918.0  \n",
      "52             four          62               27   7898.0  \n",
      "53             four          62               27   8778.0  \n",
      "54              six         156               19  15750.0  \n",
      "55             four          52               37   7775.0  \n",
      "56             four          85               27   7975.0  \n",
      "57             four          52               37   7995.0  \n",
      "58             four         100               26   9995.0  \n",
      "59             four         114               23  12940.0  \n",
      "60             four         114               23  13415.0  \n"
     ]
    }
   ],
   "source": [
    "# Inplace Operation:\n",
    "# To modify the DataFrame directly, set inplace=True in the dropna method.\n",
    "\n",
    "# Drop rows with any missing values (inplace operation)\n",
    "df.dropna(inplace=True) # Drops rows where at least one column has a missing value. inplace=True: Modifies the original DataFrame.\n",
    "\n",
    "# The original DataFrame is now updated, with rows containing missing values removed\n",
    "print(df)\n",
    "\n",
    "# Change Only a Copy:\n",
    "# To drop rows in a copy of the DataFrame and keep the original DataFrame unchanged, do not use the inplace parameter and store the result in a new variable.\n",
    "\n",
    "\n",
    "# Without inplace, dropna returns a new DataFrame, leaving the original untouched.\n",
    "\n",
    "# Drop rows with any missing values (create a copy)\n",
    "# df_copy = df.dropna()\n",
    "\n",
    "# The original DataFrame remains unchanged\n",
    "# print(df_copy)  # Modified copy\n",
    "# print(df)       # Original DataFrame remains intact\n"
   ]
  },
  {
   "cell_type": "markdown",
   "id": "614eeffe",
   "metadata": {},
   "source": [
    "### Calculate the mean of each numeric column. "
   ]
  },
  {
   "cell_type": "code",
   "execution_count": 8,
   "id": "49e06c7c",
   "metadata": {},
   "outputs": [
    {
     "name": "stdout",
     "output_type": "stream",
     "text": [
      "index                 40.885246\n",
      "wheel-base            98.481967\n",
      "length               173.098361\n",
      "horsepower           107.852459\n",
      "average-mileage       25.803279\n",
      "price              15387.000000\n",
      "dtype: float64\n"
     ]
    }
   ],
   "source": [
    "# Calculate the mean of each numeric column\n",
    "mean_values = df.mean(numeric_only=True)\n",
    "\n",
    "# Display the mean values\n",
    "print(mean_values)"
   ]
  },
  {
   "cell_type": "markdown",
   "id": "f4f79bfd",
   "metadata": {},
   "source": [
    "### Select the rows where the column \"company\" is equal to 'honda'. "
   ]
  },
  {
   "cell_type": "code",
   "execution_count": 10,
   "id": "1e373079",
   "metadata": {},
   "outputs": [
    {
     "name": "stdout",
     "output_type": "stream",
     "text": [
      "    index company body-style  wheel-base  length engine-type num-of-cylinders  \\\n",
      "18     27   honda      wagon        96.5   157.1         ohc             four   \n",
      "19     28   honda      sedan        96.5   175.4         ohc             four   \n",
      "20     29   honda      sedan        96.5   169.1         ohc             four   \n",
      "\n",
      "    horsepower  average-mileage    price  \n",
      "18          76               30   7295.0  \n",
      "19         101               24  12945.0  \n",
      "20         100               25  10345.0  \n"
     ]
    }
   ],
   "source": [
    "# Filter rows where the column 'company' is equal to 'honda'\n",
    "honda_rows = df[df['company'] == 'honda'] # df['company'] == 'honda': Creates a boolean mask where each row is True if the company column equals 'honda'\n",
    "\n",
    "# Display the filtered rows\n",
    "print(honda_rows)\n"
   ]
  },
  {
   "cell_type": "markdown",
   "id": "0a3543eb",
   "metadata": {},
   "source": [
    "### Sort the data set by price in descending order. This should *not* be an inplace operation. "
   ]
  },
  {
   "cell_type": "code",
   "execution_count": 11,
   "id": "8455abaa",
   "metadata": {},
   "outputs": [
    {
     "name": "stdout",
     "output_type": "stream",
     "text": [
      "    index        company   body-style  wheel-base  length engine-type  \\\n",
      "35     47  mercedes-benz      hardtop       112.0   199.2        ohcv   \n",
      "11     14            bmw        sedan       103.5   193.8         ohc   \n",
      "34     46  mercedes-benz        sedan       120.9   208.1        ohcv   \n",
      "46     62        porsche  convertible        89.5   168.9        ohcf   \n",
      "12     15            bmw        sedan       110.0   197.0         ohc   \n",
      "..    ...            ...          ...         ...     ...         ...   \n",
      "27     36          mazda    hatchback        93.1   159.1         ohc   \n",
      "13     16      chevrolet    hatchback        88.4   141.1           l   \n",
      "22     31          isuzu        sedan        94.5   155.9         ohc   \n",
      "23     32          isuzu        sedan        94.5   155.9         ohc   \n",
      "47     63        porsche    hatchback        98.4   175.7       dohcv   \n",
      "\n",
      "   num-of-cylinders  horsepower  average-mileage    price  \n",
      "35            eight         184               14  45400.0  \n",
      "11              six         182               16  41315.0  \n",
      "34            eight         184               14  40960.0  \n",
      "46              six         207               17  37028.0  \n",
      "12              six         182               15  36880.0  \n",
      "..              ...         ...              ...      ...  \n",
      "27             four          68               30   5195.0  \n",
      "13            three          48               47   5151.0  \n",
      "22             four          70               38      NaN  \n",
      "23             four          70               38      NaN  \n",
      "47            eight         288               17      NaN  \n",
      "\n",
      "[61 rows x 10 columns]\n"
     ]
    }
   ],
   "source": [
    "# Non-inplace Operation: The original DataFrame df remains unchanged, and the sorted result is stored in sorted_df.\n",
    "\n",
    "# Sort the DataFrame by the 'price' column in descending order\n",
    "sorted_df = df.sort_values(by='price', ascending=False) # by='price': Specifies the column to sort by (price in this case).\n",
    "\n",
    "# Display the sorted DataFrame\n",
    "print(sorted_df)\n"
   ]
  },
  {
   "cell_type": "markdown",
   "id": "1527f255",
   "metadata": {},
   "source": [
    "### Select the rows where the column \"company\" is equal to any of the values (audi, bmw, porsche)."
   ]
  },
  {
   "cell_type": "code",
   "execution_count": 12,
   "id": "60e300ae",
   "metadata": {},
   "outputs": [
    {
     "name": "stdout",
     "output_type": "stream",
     "text": [
      "    index  company   body-style  wheel-base  length engine-type  \\\n",
      "3       3     audi        sedan        99.8   176.6         ohc   \n",
      "4       4     audi        sedan        99.4   176.6         ohc   \n",
      "5       5     audi        sedan        99.8   177.3         ohc   \n",
      "6       6     audi        wagon       105.8   192.7         ohc   \n",
      "7       9      bmw        sedan       101.2   176.8         ohc   \n",
      "8      10      bmw        sedan       101.2   176.8         ohc   \n",
      "9      11      bmw        sedan       101.2   176.8         ohc   \n",
      "10     13      bmw        sedan       103.5   189.0         ohc   \n",
      "11     14      bmw        sedan       103.5   193.8         ohc   \n",
      "12     15      bmw        sedan       110.0   197.0         ohc   \n",
      "45     61  porsche      hardtop        89.5   168.9        ohcf   \n",
      "46     62  porsche  convertible        89.5   168.9        ohcf   \n",
      "47     63  porsche    hatchback        98.4   175.7       dohcv   \n",
      "\n",
      "   num-of-cylinders  horsepower  average-mileage    price  \n",
      "3              four         102               24  13950.0  \n",
      "4              five         115               18  17450.0  \n",
      "5              five         110               19  15250.0  \n",
      "6              five         110               19  18920.0  \n",
      "7              four         101               23  16430.0  \n",
      "8              four         101               23  16925.0  \n",
      "9               six         121               21  20970.0  \n",
      "10              six         182               16  30760.0  \n",
      "11              six         182               16  41315.0  \n",
      "12              six         182               15  36880.0  \n",
      "45              six         207               17  34028.0  \n",
      "46              six         207               17  37028.0  \n",
      "47            eight         288               17      NaN  \n"
     ]
    }
   ],
   "source": [
    "# The code will create a new DataFrame containing only the rows where the company column is either audi, bmw, or porsche\n",
    "# isin() checks if each value in the company column matches any value in the list ['audi', 'bmw', 'porsche'].\n",
    "\n",
    "# Filter rows where 'company' is equal to 'audi', 'bmw', or 'porsche'\n",
    "selected_rows = df[df['company'].isin(['audi', 'bmw', 'porsche'])] # Returns a boolean mask where rows satisfying the condition are True.\n",
    "\n",
    "# Display the filtered rows\n",
    "print(selected_rows)\n"
   ]
  },
  {
   "cell_type": "markdown",
   "id": "3ce133eb",
   "metadata": {},
   "source": [
    "### Find the number of cars (rows) for each company. "
   ]
  },
  {
   "cell_type": "code",
   "execution_count": 13,
   "id": "7e6a9d43",
   "metadata": {},
   "outputs": [
    {
     "name": "stdout",
     "output_type": "stream",
     "text": [
      "company\n",
      "alfa-romero      3\n",
      "audi             4\n",
      "bmw              6\n",
      "chevrolet        3\n",
      "dodge            2\n",
      "honda            3\n",
      "isuzu            1\n",
      "jaguar           3\n",
      "mazda            5\n",
      "mercedes-benz    4\n",
      "mitsubishi       4\n",
      "nissan           5\n",
      "porsche          2\n",
      "toyota           7\n",
      "volkswagen       4\n",
      "volvo            2\n",
      "Name: price, dtype: int64\n"
     ]
    }
   ],
   "source": [
    "# Counts non-NA/null values for a specified column in each group. It can be useful if there are missing values in the data.\n",
    "\n",
    "# Group by the 'company' column and count the non-NA values in one column (e.g., 'price')\n",
    "company_counts = df.groupby('company')['price'].count()\n",
    "\n",
    "# Display the result\n",
    "print(company_counts)\n"
   ]
  },
  {
   "cell_type": "markdown",
   "id": "5beef62f",
   "metadata": {},
   "source": [
    "### Find the maximum price for each company. "
   ]
  },
  {
   "cell_type": "code",
   "execution_count": 15,
   "id": "d91dc8be",
   "metadata": {},
   "outputs": [
    {
     "name": "stdout",
     "output_type": "stream",
     "text": [
      "company\n",
      "mercedes-benz    45400.0\n",
      "bmw              41315.0\n",
      "porsche          37028.0\n",
      "jaguar           36000.0\n",
      "audi             18920.0\n",
      "mazda            18344.0\n",
      "alfa-romero      16500.0\n",
      "toyota           15750.0\n",
      "nissan           13499.0\n",
      "volvo            13415.0\n",
      "honda            12945.0\n",
      "volkswagen        9995.0\n",
      "mitsubishi        8189.0\n",
      "isuzu             6785.0\n",
      "chevrolet         6575.0\n",
      "dodge             6377.0\n",
      "Name: price, dtype: float64\n"
     ]
    }
   ],
   "source": [
    "# Group by the 'company' column and find the maximum price for each company\n",
    "max_prices = df.groupby('company')['price'].max() # Groups the rows by the company column and calculates the maximum value of the price column for each group.\n",
    "\n",
    "# Sort the result in descending order\n",
    "sorted_max_prices = max_prices.sort_values(ascending=False) # Sorts the resulting Series in descending order of the maximum prices.\n",
    "\n",
    "# Display the result\n",
    "print(sorted_max_prices)\n"
   ]
  }
 ],
 "metadata": {
  "kernelspec": {
   "display_name": ".conda",
   "language": "python",
   "name": "python3"
  },
  "language_info": {
   "codemirror_mode": {
    "name": "ipython",
    "version": 3
   },
   "file_extension": ".py",
   "mimetype": "text/x-python",
   "name": "python",
   "nbconvert_exporter": "python",
   "pygments_lexer": "ipython3",
   "version": "3.11.11"
  }
 },
 "nbformat": 4,
 "nbformat_minor": 5
}
